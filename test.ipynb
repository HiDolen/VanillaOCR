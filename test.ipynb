{
 "cells": [
  {
   "cell_type": "code",
   "execution_count": 9,
   "metadata": {},
   "outputs": [
    {
     "name": "stdout",
     "output_type": "stream",
     "text": [
      "0.6214824999988195\n"
     ]
    }
   ],
   "source": [
    "import timeit\n",
    "\n",
    "code = \"\"\"\n",
    "from VanillaOCR import OCR\n",
    "ocr = OCR()\n",
    "\"\"\"\n",
    "\n",
    "print(timeit.timeit(code, globals=globals(), number=1))"
   ]
  }
 ],
 "metadata": {
  "kernelspec": {
   "display_name": "avg",
   "language": "python",
   "name": "python3"
  },
  "language_info": {
   "codemirror_mode": {
    "name": "ipython",
    "version": 3
   },
   "file_extension": ".py",
   "mimetype": "text/x-python",
   "name": "python",
   "nbconvert_exporter": "python",
   "pygments_lexer": "ipython3",
   "version": "3.11.9"
  }
 },
 "nbformat": 4,
 "nbformat_minor": 2
}
